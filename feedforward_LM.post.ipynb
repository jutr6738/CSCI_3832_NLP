{
 "cells": [
  {
   "cell_type": "code",
   "execution_count": 1,
   "metadata": {},
   "outputs": [],
   "source": [
    "'''\n",
    "First, we will import everything we need. We will also define a couple of useful functions.\n",
    "'''\n",
    "import torch\n",
    "from torch import nn\n",
    "from torch import optim\n",
    "\n",
    "import random\n",
    "\n",
    "# This is a function that prints the number of trainable parameters \n",
    "# of a model.\n",
    "def count_parameters(model):\n",
    "    return sum(p.numel() for p in model.parameters() if p.requires_grad)\n",
    "\n",
    "# This functions prints all parameters (and their gradients) of a model.\n",
    "def print_parameters(model):\n",
    "    for name, param in model.named_parameters():\n",
    "        print(name)\n",
    "        print(param.data)\n",
    "        print(param.grad)"
   ]
  },
  {
   "cell_type": "code",
   "execution_count": 2,
   "metadata": {},
   "outputs": [],
   "source": [
    "'''\n",
    "Then, we need to define our model. Remember, we want to build a bigram language model.\n",
    "'''\n",
    "class FeedforwardLM(nn.Module):\n",
    "    \n",
    "    def __init__(self, vocab_size, embedding_dim, hidden_dim):\n",
    "        super().__init__()\n",
    "        \n",
    "        self.embedding = nn.Embedding(vocab_size, embedding_dim)\n",
    "        self.hidden_layer = nn.Linear(embedding_dim, hidden_dim)\n",
    "        self.output_layer = nn.Linear(hidden_dim, vocab_size)\n",
    "        \n",
    "        self.relu = nn.ReLU()\n",
    "        \n",
    "    def forward(self, input):\n",
    "\n",
    "        embedding = self.embedding(input)\n",
    "        hidden_rep = self.relu(self.hidden_layer(embedding))\n",
    "        output = self.output_layer(hidden_rep)\n",
    "        \n",
    "        return output"
   ]
  },
  {
   "cell_type": "code",
   "execution_count": 3,
   "metadata": {},
   "outputs": [],
   "source": [
    "def load_data(filename, old_vocab=False):\n",
    "    \n",
    "    # TODO: Load data, convert text into tensors, construct vocabulary, return data and vocab\n",
    "    if not old_vocab:\n",
    "        vocab = {'<UNK>': 0}\n",
    "    else:\n",
    "        vocab = old_vocab\n",
    "    data = list()\n",
    "    file = open(filename)\n",
    "    for line in file:\n",
    "        line_text = line.split()\n",
    "        line_text = ['<s>'] + line_text + ['</s>']\n",
    "        \n",
    "        if not old_vocab:\n",
    "            # form vocabulary\n",
    "            for word in line_text:\n",
    "                if word not in vocab:\n",
    "                    vocab[word] = len(vocab)\n",
    "        \n",
    "        # add words to data\n",
    "        for i, word in enumerate(line_text):\n",
    "            if i < len(line_text) - 1:\n",
    "                if word in vocab:\n",
    "                    idx1 = vocab[word]\n",
    "                else: \n",
    "                    idx1 = vocab['<UNK>']\n",
    "                if line_text[i + 1] in vocab:\n",
    "                    idx2 = vocab[line_text[i + 1]]\n",
    "                else: \n",
    "                    idx2 = vocab['<UNK>']\n",
    "                data.append((torch.tensor(idx1), torch.tensor(idx2)))\n",
    "                \n",
    "    return vocab, data"
   ]
  },
  {
   "cell_type": "code",
   "execution_count": 5,
   "metadata": {},
   "outputs": [
    {
     "name": "stdout",
     "output_type": "stream",
     "text": [
      "7050\n",
      "7050\n",
      "7050\n",
      "(tensor(1), tensor(2))\n",
      "(tensor(205), tensor(23))\n"
     ]
    }
   ],
   "source": [
    "# Let's put it all together. \n",
    "\n",
    "# 1) Load the data, and shuffle the training data.\n",
    "# TODO\n",
    "vocab, train_data = load_data('bible.train.txt')\n",
    "print(len(vocab))\n",
    "_, dev_data = load_data('bible.dev.txt', vocab)\n",
    "print(len(vocab))\n",
    "_, test_data = load_data('bible.test.txt', vocab)\n",
    "print(len(vocab))\n",
    "\n",
    "print(train_data[0])\n",
    "random.shuffle(train_data)\n",
    "print(train_data[0])"
   ]
  },
  {
   "cell_type": "code",
   "execution_count": 35,
   "metadata": {},
   "outputs": [
    {
     "data": {
      "text/plain": [
       "183465"
      ]
     },
     "execution_count": 35,
     "metadata": {},
     "output_type": "execute_result"
    }
   ],
   "source": [
    "# 2) Initialize our model.\n",
    "# TODO\n",
    "\n",
    "our_lm = FeedforwardLM(len(vocab), 10, 15)\n",
    "count_parameters(our_lm)\n",
    "#print_parameters(our_lm)"
   ]
  },
  {
   "cell_type": "code",
   "execution_count": 36,
   "metadata": {},
   "outputs": [
    {
     "name": "stdout",
     "output_type": "stream",
     "text": [
      "### Epoch: 1 ###\n",
      "Average loss: tensor(6.3925, grad_fn=<DivBackward0>)\n",
      "tensor(6.4221, grad_fn=<DivBackward0>)\n",
      "### Epoch: 2 ###\n",
      "Average loss: tensor(6.4735, grad_fn=<DivBackward0>)\n",
      "tensor(5.7407, grad_fn=<DivBackward0>)\n",
      "### Epoch: 3 ###\n",
      "Average loss: tensor(6.5992, grad_fn=<DivBackward0>)\n",
      "tensor(5.4488, grad_fn=<DivBackward0>)\n",
      "### Epoch: 4 ###\n",
      "Average loss: tensor(6.6814, grad_fn=<DivBackward0>)\n",
      "tensor(5.2521, grad_fn=<DivBackward0>)\n",
      "### Epoch: 5 ###\n",
      "Average loss: tensor(6.7400, grad_fn=<DivBackward0>)\n",
      "tensor(5.1035, grad_fn=<DivBackward0>)\n",
      "### Epoch: 6 ###\n",
      "Average loss: tensor(6.7482, grad_fn=<DivBackward0>)\n",
      "tensor(4.9941, grad_fn=<DivBackward0>)\n",
      "### Epoch: 7 ###\n",
      "Average loss: tensor(6.8773, grad_fn=<DivBackward0>)\n",
      "tensor(4.9137, grad_fn=<DivBackward0>)\n",
      "### Epoch: 8 ###\n",
      "Average loss: tensor(6.9093, grad_fn=<DivBackward0>)\n",
      "tensor(4.8446, grad_fn=<DivBackward0>)\n",
      "### Epoch: 9 ###\n",
      "Average loss: tensor(6.9197, grad_fn=<DivBackward0>)\n",
      "tensor(4.7848, grad_fn=<DivBackward0>)\n",
      "### Epoch: 10 ###\n",
      "Average loss: tensor(6.9614, grad_fn=<DivBackward0>)\n",
      "tensor(4.7293, grad_fn=<DivBackward0>)\n"
     ]
    }
   ],
   "source": [
    "# 3) Now we train our model. \n",
    "# TODO\n",
    "\n",
    "epochs = 10\n",
    "ce = nn.CrossEntropyLoss()\n",
    "softmax = nn.Softmax(dim=0)\n",
    "optimizer = optim.SGD(our_lm.parameters(), lr=0.1)\n",
    "\n",
    "for i in range(epochs):\n",
    "    print('### Epoch: ' + str(i+1) + ' ###')\n",
    "    av_loss = 0\n",
    "    our_lm.train()\n",
    "    for (x, y) in train_data[:10000]:\n",
    "        optimizer.zero_grad()\n",
    "        \n",
    "        # a) calculate probs / get an output\n",
    "        y_raw = our_lm(x)\n",
    "        y_hat = softmax(y_raw)\n",
    "        \n",
    "        # b) compute loss\n",
    "        loss = ce(y_raw.unsqueeze(0),y.unsqueeze(0))\n",
    "        av_loss += loss\n",
    "        \n",
    "        # c) get the gradient\n",
    "        loss.backward()\n",
    "\n",
    "        # d) update the weights\n",
    "        optimizer.step()\n",
    "    validate(our_lm, dev_data)\n",
    "    print(av_loss/len(train_data[:10000]))"
   ]
  },
  {
   "cell_type": "code",
   "execution_count": 41,
   "metadata": {},
   "outputs": [
    {
     "name": "stdout",
     "output_type": "stream",
     "text": [
      "walk to\n",
      "to be\n",
      "to be\n",
      "be I\n",
      "be I\n",
      "I am\n",
      "I am\n",
      "am the\n",
      "am the\n",
      "the things\n"
     ]
    }
   ],
   "source": [
    "# Use the model to predict some words!\n",
    "# TODO\n",
    "\n",
    "words = ['walk', 'to']\n",
    "\n",
    "for i in range(10):\n",
    "    word = words[i]\n",
    "    idx = vocab[word]\n",
    "    tensor_idx = torch.tensor(idx)\n",
    "    \n",
    "    raw_output = our_lm(tensor_idx)\n",
    "    probs = softmax(raw_output)\n",
    "    \n",
    "    pred = torch.argmax(probs)\n",
    "    \n",
    "    # Print prediction.\n",
    "    for w, v in vocab.items():\n",
    "        if v == pred:\n",
    "            print(word + ' ' + w)\n",
    "            words.append(w)\n",
    "    "
   ]
  },
  {
   "cell_type": "code",
   "execution_count": 26,
   "metadata": {},
   "outputs": [],
   "source": [
    "# Note: Perplexity is just exp(2, cross-entropy). So we just use the loss here.\n",
    "def validate(model, data):\n",
    "    \n",
    "    model.eval()\n",
    "    \n",
    "    # TODO: Implement validation function\n",
    "    av_loss = 0\n",
    "    for (x, y) in data[:1000]:\n",
    "        \n",
    "        # a) calculate probs / get an output\n",
    "        y_raw = model(x)\n",
    "        \n",
    "        # b) compute loss\n",
    "        loss = ce(y_raw.unsqueeze(0),y.unsqueeze(0))\n",
    "        av_loss += loss\n",
    "\n",
    "    av_loss = av_loss/len(data[:1000])\n",
    "    \n",
    "    print(\"Average loss: \" + str(av_loss))\n",
    "    "
   ]
  },
  {
   "cell_type": "code",
   "execution_count": null,
   "metadata": {},
   "outputs": [],
   "source": []
  }
 ],
 "metadata": {
  "kernelspec": {
   "display_name": "Python 3 (ipykernel)",
   "language": "python",
   "name": "python3"
  },
  "language_info": {
   "codemirror_mode": {
    "name": "ipython",
    "version": 3
   },
   "file_extension": ".py",
   "mimetype": "text/x-python",
   "name": "python",
   "nbconvert_exporter": "python",
   "pygments_lexer": "ipython3",
   "version": "3.9.7"
  }
 },
 "nbformat": 4,
 "nbformat_minor": 2
}
