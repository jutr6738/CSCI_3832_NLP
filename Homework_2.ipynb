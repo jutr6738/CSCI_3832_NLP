{
 "cells": [
  {
   "cell_type": "markdown",
   "metadata": {
    "collapsed": true,
    "pycharm": {
     "name": "#%% md\n"
    }
   },
   "source": [
    "# Homework 2: Language Models and Neural Networks\n",
    "#### CSCI 3832 Natural Language Processing"
   ]
  },
  {
   "cell_type": "markdown",
   "metadata": {},
   "source": [
    "## Julia Troni"
   ]
  },
  {
   "cell_type": "markdown",
   "metadata": {
    "pycharm": {
     "name": "#%% md\n"
    }
   },
   "source": [
    "In this homework we're going to be looking at the bigram language model you've implemented in class, and extend it to trigrams.\n",
    "\n",
    "Instead of looking at the Bible, we'll re-visit the sentiment analysis problem from the previous homework.\n",
    "\n",
    "- This dataset contains a split of unlabeled movie reviews.\n",
    "- We'll train our language model using this unlabeled split (i.e. we'll pretrain our language model) and then we'll use this model as a starting off point for a neural classification model (i.e. finetuning), which we'll use to do sentiment classification.\n",
    "- Finally, we'll replace our trained embeddings with Glove pretrained vectors, to see if we get any improvement."
   ]
  },
  {
   "cell_type": "markdown",
   "metadata": {},
   "source": [
    "## Section 1: Neural Language Modeling\n",
    "\n",
    "We'll first load the unsupervised data. Set the data dir below to the directory you used for Homework 1, to prevent copying the data twice."
   ]
  },
  {
   "cell_type": "code",
   "execution_count": 1,
   "metadata": {
    "pycharm": {
     "name": "#%%\n"
    }
   },
   "outputs": [],
   "source": [
    "import os, random, sys, matplotlib.pyplot as plt\n",
    "import torch, torch.nn as nn, numpy\n",
    "from nltk.tokenize import word_tokenize"
   ]
  },
  {
   "cell_type": "code",
   "execution_count": 2,
   "metadata": {
    "pycharm": {
     "name": "#%%\n"
    }
   },
   "outputs": [
    {
     "name": "stdout",
     "output_type": "stream",
     "text": [
      "I admit, the great majority of films released before say 1933 are just not for me. Of the dozen or so \"major\" silents I have viewed, one I loved (The Crowd), and two were very good (The Last Command and City Lights, that latter Chaplin circa 1931).<br /><br />So I was apprehensive about this one, and humor is often difficult to appreciate (uh, enjoy) decades later. I did like the lead actors, but thought little of the film.<br /><br />One intriguing sequence. Early on, the guys are supposed to get \"de-loused\" and for about three minutes, fully dressed, do some schtick. In the background, perhaps three dozen men pass by, all naked, white and black (WWI ?), and for most, their butts, part or full backside, are shown. Was this an early variation of beefcake courtesy of Howard Hughes?\n"
     ]
    }
   ],
   "source": [
    "data_dir = 'aclImdb/'\n",
    "data_limit = 15000\n",
    "\n",
    "def read_folder(folder):\n",
    "    examples = []\n",
    "    files = os.listdir(folder)\n",
    "    files.sort()\n",
    "    for fname in files[:data_limit]:\n",
    "        with open(os.path.join(folder, fname), encoding='utf8') as f:\n",
    "            examples.append(f.readline().strip())\n",
    "    return examples\n",
    "\n",
    "unsup_examples = read_folder(os.path.join(data_dir, 'train/unsup/'))\n",
    "print(unsup_examples[0])"
   ]
  },
  {
   "cell_type": "markdown",
   "metadata": {},
   "source": [
    "The dataset also comes with a pre-made vocabulary, which we'll rely on for this section of the homework. We'll eventually convert our words to indices, so lets store the words in a dictionary, mapping each to a unique integer."
   ]
  },
  {
   "cell_type": "code",
   "execution_count": 3,
   "metadata": {
    "pycharm": {
     "name": "#%%\n"
    }
   },
   "outputs": [],
   "source": [
    "vocabulary_file = os.path.join(data_dir, 'imdb.vocab')\n",
    "\n",
    "raw_vocabulary = []\n",
    "with open(vocabulary_file, 'r', encoding='utf8') as f:\n",
    "    for line in f:\n",
    "        raw_vocabulary.append(line.strip())\n",
    "\n",
    "#Limit our vocabulary size to top 5k words\n",
    "raw_vocabulary = raw_vocabulary[:5000]\n",
    "\n",
    "# Add in our special tokens\n",
    "special_tokens = ['<s>', '</s>', '<unk>']\n",
    "\n",
    "vocabulary = {}\n",
    "\n",
    "'''\n",
    "Your code here.\n",
    "\n",
    "Create the vocabulary dictionary by prepending the special tokens to the raw vocabulary, and enumerating them.\n",
    "\n",
    "10 pts.\n",
    "\n",
    "'''\n",
    "for indx in range(len(special_tokens)):\n",
    "    vocabulary[special_tokens[indx]]=indx\n",
    "for indx in range(len(raw_vocabulary)):\n",
    "    vocabulary[raw_vocabulary[indx]]=indx+3\n"
   ]
  },
  {
   "cell_type": "code",
   "execution_count": 4,
   "metadata": {
    "pycharm": {
     "name": "#%%\n"
    }
   },
   "outputs": [],
   "source": [
    "assert isinstance(vocabulary, dict)\n",
    "assert len(vocabulary) == 5003\n",
    "assert vocabulary['<s>'] == 0\n",
    "assert vocabulary['significance'] == 5002\n"
   ]
  },
  {
   "cell_type": "markdown",
   "metadata": {
    "pycharm": {
     "name": "#%% md\n"
    }
   },
   "source": [
    "Now that we have a vocabulary, we can process the unsupervised examples we loaded earlier into actual training data our model can read.\n",
    "\n",
    "First, we'll tokenize the text normally:"
   ]
  },
  {
   "cell_type": "code",
   "execution_count": 5,
   "metadata": {
    "pycharm": {
     "name": "#%%\n"
    }
   },
   "outputs": [],
   "source": [
    "\"\"\"\n",
    "This block may take a while (<5 minutes) to run, but you only have to run it once, so make sure you don't modify the tokenized_examples list after it's completed.\n",
    "While you're writing your code, consider limiting unsup_examples to the first 5 examples as a smoke test before you run the loop over all examples\n",
    "\"\"\"\n",
    "\n",
    "from nltk.tokenize import word_tokenize\n",
    "\n",
    "tokenized_examples = []\n",
    "sos_id = vocabulary['<s>'] #start of sequence\n",
    "eos_id = vocabulary['</s>'] #end of sequence\n",
    "unk_id = vocabulary['<unk>']\n",
    "\n",
    "for example in unsup_examples[0:5]:\n",
    "    example_tokens = [token.lower() for token in word_tokenize(example)]\n",
    "\n",
    "    token_ids = [sos_id]\n",
    "    for token in example_tokens:\n",
    "        '''\n",
    "            Your code here.\n",
    "\n",
    "            The above loop iterates over the tokens in a single example. If a token is in our vocabulary, then add it to token_ids. If not, add the unknown token.\n",
    "\n",
    "            10 pts.\n",
    "\n",
    "        '''\n",
    "        if token in vocabulary.keys():\n",
    "            token_ids.append(vocabulary.get(token))\n",
    "        elif token not in vocabulary:\n",
    "            token_ids.append(unk_id)\n",
    "            \n",
    "    token_ids.append(eos_id)\n",
    "    tokenized_examples.append(token_ids)"
   ]
  },
  {
   "cell_type": "code",
   "execution_count": 6,
   "metadata": {
    "pycharm": {
     "name": "#%%\n"
    }
   },
   "outputs": [],
   "source": [
    "assert len(tokenized_examples[0]) == 191\n",
    "assert tokenized_examples[0] == [0, 11, 940, 2, 3, 86, 2091, 6, 107, 618, 158, 134, 2, 25, 43, 22, 16, 71, 2, 6, 3, 2587, 42, 38, 2, 653, 2, 2, 11, 27, 2361, 2, 29, 11, 440, 2, 3, 2260, 2, 2, 4, 108, 70, 55, 51, 2, 3, 229, 4300, 4, 522, 2648, 2, 13, 1517, 3053, 2, 2, 2, 2, 2, 2, 2, 2, 2, 2, 2, 2, 38, 11, 14, 2, 44, 12, 29, 2, 4, 468, 8, 388, 854, 7, 1103, 2, 2, 2, 345, 2, 2738, 294, 2, 11, 120, 39, 3, 471, 154, 2, 19, 201, 115, 6, 3, 2, 2, 2, 2, 2, 2, 2, 2, 2, 29, 1731, 695, 2, 387, 21, 2, 3, 473, 25, 410, 7, 77, 2, 2, 2, 4, 16, 44, 291, 228, 2, 1300, 1796, 2, 84, 50, 2, 2, 10, 3, 943, 2, 367, 291, 2587, 334, 1320, 33, 2, 31, 1267, 2, 444, 4, 323, 2, 2, 49, 2, 2, 4, 16, 90, 2, 66, 2, 2, 173, 42, 377, 2, 2, 25, 598, 2, 14, 12, 34, 387, 2, 6, 2, 2, 6, 1951, 2, 49, 1]"
   ]
  },
  {
   "cell_type": "markdown",
   "metadata": {},
   "source": [
    "Now we can create our bigram data. We'll make use of the torch Dataset class. We only need to implement the `__getitem__` and `__len__` methods to make this work with other existing torch tools.\n",
    "\n",
    "For this dataset, for each example, iterate over its bigrams. If either one of the tokens is an unknown token, then do not save the bigram. Since we're using a small vocabulary, we'll have a lot of unknowns, and we don't want our model to always predict this token as the most likely next token.\n",
    "\n",
    "Note that with a normal sized vocabulary, training set, and model, you wouldn't necessarily want to do this -- unknowns would hopefully be relatively rare."
   ]
  },
  {
   "cell_type": "code",
   "execution_count": 7,
   "metadata": {
    "pycharm": {
     "name": "#%%\n"
    }
   },
   "outputs": [],
   "source": [
    "import torch\n",
    "\n",
    "class BigramDataset(torch.utils.data.Dataset):\n",
    "\n",
    "    def __init__(self, tokenized_data):\n",
    "\n",
    "        self.examples = []\n",
    "        for example in tokenized_data:              #Iterate over our dataset\n",
    "            for i in range(0,len(example) - 1):     #Iterate over the tokens of the example\n",
    "                '''\n",
    "                    Your code here.\n",
    "\n",
    "                    Bigrams should be a tuple of integers: (example[i], example[i+1])\n",
    "                    For each bigram, if either of example[i] or example[i+1] are unknown then do not add the bigram to our examples.\n",
    "\n",
    "                    10 pts.\n",
    "                '''\n",
    "                if (example[i]==unk_id or example[i+1]==unk_id):\n",
    "                    continue;\n",
    "                else: \n",
    "                    self.examples.append((example[i], example[i+1]))\n",
    "\n",
    "    def __getitem__(self, idx):\n",
    "\n",
    "        return self.examples[idx]\n",
    "\n",
    "    def __len__(self):\n",
    "\n",
    "        return len(self.examples)\n",
    "\n",
    "\n"
   ]
  },
  {
   "cell_type": "markdown",
   "metadata": {},
   "source": [
    "Now we'll define the bigram model. This is similar to the one in class: the input is a single token, and the model outputs a probability over the whole vocabulary."
   ]
  },
  {
   "cell_type": "code",
   "execution_count": 8,
   "metadata": {
    "pycharm": {
     "name": "#%%\n"
    }
   },
   "outputs": [],
   "source": [
    "import torch.nn as nn\n",
    "\n",
    "class BigramLM(nn.Module):\n",
    "\n",
    "    def __init__(self, vocab_size, embedding_dim, hidden_dim, num_hidden_layers):\n",
    "        super().__init__()\n",
    "\n",
    "        self.embedding = nn.Embedding(vocab_size, embedding_dim)\n",
    "        self.hidden_layer_1 = nn.Linear(embedding_dim, hidden_dim)\n",
    "        self.hidden_layers = nn.ModuleList(\n",
    "            [nn.Linear(hidden_dim, hidden_dim) for _ in range(num_hidden_layers - 1)]\n",
    "        )\n",
    "        self.output_layer = nn.Linear(hidden_dim, vocab_size)\n",
    "\n",
    "        self.relu = nn.ReLU()\n",
    "\n",
    "    def forward(self, input):\n",
    "\n",
    "        embedding = self.embedding(input)\n",
    "\n",
    "        hidden = self.relu(self.hidden_layer_1(embedding))\n",
    "\n",
    "        for layer in self.hidden_layers:\n",
    "            hidden = self.relu(layer(hidden))\n",
    "\n",
    "        output = self.output_layer(hidden)\n",
    "\n",
    "        return output"
   ]
  },
  {
   "cell_type": "markdown",
   "metadata": {},
   "source": [
    "Now we'll train the model. This training loop is similar to the one shown in lecture, with a couple of differences."
   ]
  },
  {
   "cell_type": "code",
   "execution_count": 9,
   "metadata": {
    "pycharm": {
     "name": "#%%\n"
    }
   },
   "outputs": [
    {
     "name": "stdout",
     "output_type": "stream",
     "text": [
      "### Epoch: 1 ###\n",
      "epoch: 0 batch: 1 loss: 0.01703556442260742\n",
      "### Epoch: 2 ###\n",
      "epoch: 1 batch: 1 loss: 0.01703548240661621\n",
      "### Epoch: 3 ###\n",
      "epoch: 2 batch: 1 loss: 0.017035235404968263\n",
      "### Epoch: 4 ###\n",
      "epoch: 3 batch: 1 loss: 0.017034703254699708\n",
      "### Epoch: 5 ###\n",
      "epoch: 4 batch: 1 loss: 0.01703206443786621\n",
      "### Epoch: 6 ###\n",
      "epoch: 5 batch: 1 loss: 0.017000323295593263\n",
      "### Epoch: 7 ###\n",
      "epoch: 6 batch: 1 loss: 0.016988926887512208\n",
      "### Epoch: 8 ###\n",
      "epoch: 7 batch: 1 loss: 0.016927145004272462\n",
      "### Epoch: 9 ###\n",
      "epoch: 8 batch: 1 loss: 0.016844003677368165\n",
      "### Epoch: 10 ###\n",
      "epoch: 9 batch: 1 loss: 0.016849642753601075\n",
      "### Epoch: 11 ###\n",
      "epoch: 10 batch: 1 loss: 0.016908321380615234\n",
      "### Epoch: 12 ###\n",
      "epoch: 11 batch: 1 loss: 0.016807310104370116\n",
      "### Epoch: 13 ###\n",
      "epoch: 12 batch: 1 loss: 0.016894169807434082\n",
      "### Epoch: 14 ###\n",
      "epoch: 13 batch: 1 loss: 0.01676465034484863\n",
      "### Epoch: 15 ###\n",
      "epoch: 14 batch: 1 loss: 0.016738129615783692\n",
      "### Epoch: 16 ###\n",
      "epoch: 15 batch: 1 loss: 0.016803789138793945\n",
      "### Epoch: 17 ###\n",
      "epoch: 16 batch: 1 loss: 0.016743609428405762\n",
      "### Epoch: 18 ###\n",
      "epoch: 17 batch: 1 loss: 0.016680845260620115\n",
      "### Epoch: 19 ###\n",
      "epoch: 18 batch: 1 loss: 0.016734184265136717\n",
      "### Epoch: 20 ###\n",
      "epoch: 19 batch: 1 loss: 0.01657803535461426\n",
      "### Epoch: 21 ###\n",
      "epoch: 20 batch: 1 loss: 0.016633914947509765\n",
      "### Epoch: 22 ###\n",
      "epoch: 21 batch: 1 loss: 0.016455757141113282\n",
      "### Epoch: 23 ###\n",
      "epoch: 22 batch: 1 loss: 0.016528340339660646\n",
      "### Epoch: 24 ###\n",
      "epoch: 23 batch: 1 loss: 0.016478575706481934\n",
      "### Epoch: 25 ###\n",
      "epoch: 24 batch: 1 loss: 0.016492303848266603\n",
      "### Epoch: 26 ###\n",
      "epoch: 25 batch: 1 loss: 0.01644309902191162\n",
      "### Epoch: 27 ###\n",
      "epoch: 26 batch: 1 loss: 0.016141467571258544\n",
      "### Epoch: 28 ###\n",
      "epoch: 27 batch: 1 loss: 0.016362260818481446\n",
      "### Epoch: 29 ###\n",
      "epoch: 28 batch: 1 loss: 0.016128934860229493\n",
      "### Epoch: 30 ###\n",
      "epoch: 29 batch: 1 loss: 0.01615890884399414\n"
     ]
    }
   ],
   "source": [
    "# Training Loop\n",
    "\n",
    "#Initialize our model -- keep it small with 1 hidden layer, and embedding sizes of 50\n",
    "bigram_model = BigramLM(len(vocabulary), 50, 50, 1)\n",
    "\n",
    "#Initialize our dataset using a subset of examples\n",
    "bigram_dataset = BigramDataset(tokenized_examples[:5000])\n",
    "\n",
    "criteria = nn.CrossEntropyLoss()\n",
    "optimizer = torch.optim.AdamW(bigram_model.parameters())            #AdamW is a popularly used optimizer\n",
    "# optimizer = torch.optim.SGD(bigram_model.parameters(), lr=0.5)    #Either of these optimizers could be used\n",
    "\n",
    "softmax = nn.Softmax(dim=2)\n",
    "\n",
    "epochs = 30\n",
    "batch_size = 32\n",
    "print_frequency = 1000\n",
    "\n",
    "avg_loss_list=[] #list to hold losses to plot later\n",
    "\n",
    "#We'll create an instance of a torch dataloader to collate our data. This class handles batching and shuffling (should be done each epoch)\n",
    "train_dataloader = torch.utils.data.DataLoader(bigram_dataset, batch_size=batch_size, shuffle=True)\n",
    "\n",
    "for i in range(epochs):\n",
    "    print('### Epoch: ' + str(i+1) + ' ###')\n",
    "\n",
    "    bigram_model.train()\n",
    "    avg_loss = 0\n",
    "\n",
    "    for step, data in enumerate(train_dataloader):\n",
    "        x, y = data\n",
    "        x = x.unsqueeze(1)\n",
    "\n",
    "\n",
    "        optimizer.zero_grad()\n",
    "\n",
    "        model_output = bigram_model(x)\n",
    "        model_output_probabilities = softmax(model_output)\n",
    "\n",
    "        loss = criteria(model_output_probabilities.squeeze(1), y)\n",
    "\n",
    "        loss.backward()\n",
    "        optimizer.step()\n",
    "\n",
    "        avg_loss += loss.item()\n",
    "        if step % print_frequency == 1:\n",
    "            print('epoch: {} batch: {} loss: {}'.format(\n",
    "                i,\n",
    "                step,\n",
    "                avg_loss / print_frequency\n",
    "            ))\n",
    "            avg_loss_list.append(avg_loss) #keep track of average loss\n",
    "            avg_loss = 0"
   ]
  },
  {
   "cell_type": "markdown",
   "metadata": {},
   "source": [
    "Use the loop above to train the model for at least 1 epoch.\n",
    "\n",
    "1. Modify the loop to keep track of the average loss before it's reset. Then, plot the losses using matplotlib below."
   ]
  },
  {
   "cell_type": "code",
   "execution_count": 10,
   "metadata": {
    "pycharm": {
     "name": "#%%\n"
    }
   },
   "outputs": [
    {
     "data": {
      "image/png": "[encoded data removed]",
      "text/plain": [
       "<Figure size 432x288 with 1 Axes>"
      ]
     },
     "metadata": {
      "needs_background": "light"
     },
     "output_type": "display_data"
    }
   ],
   "source": [
    "'''\n",
    "Your code here.\n",
    "\n",
    "The average loss is reset after print_frequency iterations. Before it's set to 0, store it in a list that will persist throughout training.\n",
    "\n",
    "10 pts.\n",
    "'''\n",
    "\n",
    "fig, ax = plt.subplots(1, 1)\n",
    "# Index 4 Axes arrays in 4 subplots within 1 Figure: \n",
    "ax.plot( avg_loss_list, 'g') #row=0, column=0\n",
    "ax.set_xlabel('Epochs')\n",
    "ax.set_ylabel('Cross Entropy Loss')\n",
    "plt.title(\"Average Cross Entropy Loss for Bigram Model\")\n",
    "plt.show()\n",
    "\n"
   ]
  },
  {
   "cell_type": "markdown",
   "metadata": {},
   "source": [
    "Now we'll modify our model and dataset to create a trigram language model. Here, the input will be two words rather than 1. The output will remain the same.\n",
    "\n",
    "Hint: since we have two inputs, we'll want to combine them in some way after we get their embeddings. An easy way to do this would be to concatenate the two embeddings together, creating a new vector of size 2*embedding_dim. This will be the input size of the first hidden dimension."
   ]
  },
  {
   "cell_type": "code",
   "execution_count": 11,
   "metadata": {
    "pycharm": {
     "name": "#%%\n"
    }
   },
   "outputs": [],
   "source": [
    "class TrigramDataset(torch.utils.data.Dataset):\n",
    "\n",
    "    def __init__(self, tokenized_data):\n",
    "\n",
    "        self.examples = []\n",
    "        for example in tokenized_data:              #Iterate over our dataset\n",
    "            for i in range(0,len(example) - 2):     #Iterate over the tokens of the example\n",
    "                \n",
    "                #Trigrams should be a tuple of integers: (example[i], example[i+1], example[i+2])\n",
    "                if (example[i]==unk_id or example[i+1]==unk_id or example[i+2]==unk_id):\n",
    "                    continue;\n",
    "                else:\n",
    "                    self.examples.append((example[i], example[i+1], example[i+2]))\n",
    "\n",
    "\n",
    "    def __getitem__(self, idx):\n",
    "\n",
    "        return self.examples[idx]\n",
    "\n",
    "    def __len__(self):\n",
    "\n",
    "        return len(self.examples)\n",
    "        \n",
    "        "
   ]
  },
  {
   "cell_type": "code",
   "execution_count": 12,
   "metadata": {
    "pycharm": {
     "name": "#%%\n"
    }
   },
   "outputs": [],
   "source": [
    "class TrigramLM(nn.Module):\n",
    "    '''Hint: since we have two inputs, we'll want to combine them in some way after we get their embeddings.\n",
    "    An easy way to do this would be to concatenate the two embeddings together, \n",
    "    creating a new vector of size 2*embedding_dim. \n",
    "    This will be the input size of the first hidden dimension.'''\n",
    "\n",
    "    def __init__(self, vocab_size, embedding_dim, hidden_dim, num_hidden_layers):\n",
    "        super().__init__()\n",
    "\n",
    "        self.embedding = nn.Embedding(vocab_size, embedding_dim)\n",
    "\n",
    "\n",
    "        #Embedding_dim will have to be modified\n",
    "        self.hidden_layer_1 = nn.Linear(embedding_dim*2, hidden_dim) \n",
    "        \n",
    "        self.hidden_layers = nn.ModuleList(\n",
    "            [nn.Linear(hidden_dim, hidden_dim) for _ in range(num_hidden_layers - 1)]\n",
    "        )\n",
    "        self.output_layer = nn.Linear(hidden_dim, vocab_size)\n",
    "\n",
    "        self.relu = nn.ReLU()\n",
    "\n",
    "\n",
    "    def forward(self, input_1, input_2):\n",
    "        # Hint: we'll need to get an embedding for our second input somehow\n",
    "        self.embedding_1 = self.embedding(input_1)\n",
    "        self.embedding_2 = self.embedding(input_2)\n",
    "\n",
    "        # Hint: This might be one way to combine our embeddings\n",
    "        embedding = torch.cat((self.embedding_1,self.embedding_2),2)\n",
    "        \n",
    "        \n",
    "        hidden = self.relu(self.hidden_layer_1(embedding))\n",
    "\n",
    "        for layer in self.hidden_layers:\n",
    "            hidden = self.relu(layer(hidden))\n",
    "\n",
    "        output = self.output_layer(hidden)\n",
    "\n",
    "        return output"
   ]
  },
  {
   "cell_type": "code",
   "execution_count": 13,
   "metadata": {
    "pycharm": {
     "name": "#%%\n"
    }
   },
   "outputs": [],
   "source": [
    "trigram_loss_list=[]\n",
    "def train_trigram(trigram_model, trigram_dataset):\n",
    "\n",
    "    criteria = nn.CrossEntropyLoss()\n",
    "    optimizer = torch.optim.AdamW(trigram_model.parameters())\n",
    "    # optimizer = torch.optim.SGD(trigram_model.parameters(), lr=0.5)\n",
    "\n",
    "    softmax = nn.Softmax(dim=2)\n",
    "\n",
    "    epochs = 30\n",
    "    batch_size = 32\n",
    "    print_frequency = 1000\n",
    "\n",
    "\n",
    "\n",
    "    train_dataloader = torch.utils.data.DataLoader(trigram_dataset, batch_size=batch_size, shuffle=True)\n",
    "\n",
    "    for i in range(epochs):\n",
    "        print('### Epoch: ' + str(i+1) + ' ###')\n",
    "\n",
    "        trigram_model.train()\n",
    "        avg_loss = 0\n",
    "    \n",
    "        for step, data in enumerate(train_dataloader):\n",
    "\n",
    "            \n",
    "            x, b,y = data\n",
    "\n",
    "            x = x.unsqueeze(1)\n",
    "            b = b.unsqueeze(1)\n",
    "            \n",
    "\n",
    "            optimizer.zero_grad()\n",
    "\n",
    "            model_output = trigram_model(x,b)\n",
    "            model_output_probabilities = softmax(model_output)\n",
    "\n",
    "            loss = criteria(model_output_probabilities.squeeze(1), y)\n",
    "\n",
    "            loss.backward()\n",
    "            optimizer.step()\n",
    "\n",
    "            avg_loss += loss.item()\n",
    "            if step % print_frequency == 1:\n",
    "                print('epoch: {} batch: {} loss: {}'.format(\n",
    "                    i,\n",
    "                    step,\n",
    "                    avg_loss / print_frequency\n",
    "                ))\n",
    "                trigram_loss_list.append(avg_loss) #keep track of average loss\n",
    "                avg_loss = 0\n",
    "                "
   ]
  },
  {
   "cell_type": "code",
   "execution_count": 14,
   "metadata": {
    "pycharm": {
     "name": "#%%\n"
    }
   },
   "outputs": [
    {
     "name": "stdout",
     "output_type": "stream",
     "text": [
      "### Epoch: 1 ###\n",
      "epoch: 0 batch: 1 loss: 0.017035577774047853\n",
      "### Epoch: 2 ###\n",
      "epoch: 1 batch: 1 loss: 0.0170355110168457\n",
      "### Epoch: 3 ###\n",
      "epoch: 2 batch: 1 loss: 0.01703536033630371\n",
      "### Epoch: 4 ###\n",
      "epoch: 3 batch: 1 loss: 0.017035176277160644\n",
      "### Epoch: 5 ###\n",
      "epoch: 4 batch: 1 loss: 0.017034628868103027\n",
      "### Epoch: 6 ###\n",
      "epoch: 5 batch: 1 loss: 0.01702963161468506\n",
      "### Epoch: 7 ###\n",
      "epoch: 6 batch: 1 loss: 0.01702789783477783\n",
      "### Epoch: 8 ###\n",
      "epoch: 7 batch: 1 loss: 0.016854925155639647\n",
      "### Epoch: 9 ###\n",
      "epoch: 8 batch: 1 loss: 0.016915714263916016\n",
      "### Epoch: 10 ###\n",
      "epoch: 9 batch: 1 loss: 0.016915902137756348\n",
      "### Epoch: 11 ###\n",
      "epoch: 10 batch: 1 loss: 0.016852542877197264\n",
      "### Epoch: 12 ###\n",
      "epoch: 11 batch: 1 loss: 0.01677695369720459\n",
      "### Epoch: 13 ###\n",
      "epoch: 12 batch: 1 loss: 0.016858395576477052\n",
      "### Epoch: 14 ###\n",
      "epoch: 13 batch: 1 loss: 0.01664865303039551\n",
      "### Epoch: 15 ###\n",
      "epoch: 14 batch: 1 loss: 0.016608195304870607\n",
      "### Epoch: 16 ###\n",
      "epoch: 15 batch: 1 loss: 0.016598743438720705\n",
      "### Epoch: 17 ###\n",
      "epoch: 16 batch: 1 loss: 0.01659041881561279\n",
      "### Epoch: 18 ###\n",
      "epoch: 17 batch: 1 loss: 0.016568699836730958\n",
      "### Epoch: 19 ###\n",
      "epoch: 18 batch: 1 loss: 0.016465951919555664\n",
      "### Epoch: 20 ###\n",
      "epoch: 19 batch: 1 loss: 0.016472249031066893\n",
      "### Epoch: 21 ###\n",
      "epoch: 20 batch: 1 loss: 0.0164848051071167\n",
      "### Epoch: 22 ###\n",
      "epoch: 21 batch: 1 loss: 0.016394278526306153\n",
      "### Epoch: 23 ###\n",
      "epoch: 22 batch: 1 loss: 0.016131088256835936\n",
      "### Epoch: 24 ###\n",
      "epoch: 23 batch: 1 loss: 0.015992343425750732\n",
      "### Epoch: 25 ###\n",
      "epoch: 24 batch: 1 loss: 0.016229279518127443\n",
      "### Epoch: 26 ###\n",
      "epoch: 25 batch: 1 loss: 0.015975374698638915\n",
      "### Epoch: 27 ###\n",
      "epoch: 26 batch: 1 loss: 0.016032657623291015\n",
      "### Epoch: 28 ###\n",
      "epoch: 27 batch: 1 loss: 0.0158506498336792\n",
      "### Epoch: 29 ###\n",
      "epoch: 28 batch: 1 loss: 0.016136332511901854\n",
      "### Epoch: 30 ###\n",
      "epoch: 29 batch: 1 loss: 0.015852867603302002\n"
     ]
    }
   ],
   "source": [
    "\"\"\"\n",
    "Complete the following code block by initializing the model/dataset and training for at least one epoch\n",
    "Hint: the models and dataset should be _extremely_ similar to the bigram model and dataset\n",
    "\n",
    "20 pts.\n",
    "\"\"\"\n",
    "\n",
    "\n",
    "\n",
    "trigram_model = TrigramLM(len(vocabulary), 50, 50, 1)\n",
    "#Initialize our dataset using a subset of examples\n",
    "trigram_dataset = TrigramDataset(tokenized_examples[:5000])\n",
    "\n",
    "\n",
    "train_trigram(trigram_model, trigram_dataset)"
   ]
  },
  {
   "cell_type": "code",
   "execution_count": 15,
   "metadata": {},
   "outputs": [
    {
     "data": {
      "image/png": "[encoded data removed]",
      "text/plain": [
       "<Figure size 432x288 with 1 Axes>"
      ]
     },
     "metadata": {
      "needs_background": "light"
     },
     "output_type": "display_data"
    }
   ],
   "source": [
    "\n",
    "fig, ax = plt.subplots(1, 1)\n",
    "ax.plot( trigram_loss_list, 'g') #row=0, column=0\n",
    "ax.set_xlabel('Epochs')\n",
    "ax.set_ylabel('Cross Entropy Loss')\n",
    "plt.title(\"Average Cross Entropy Loss for Trigram Model\")\n",
    "plt.show()\n",
    "\n"
   ]
  },
  {
   "cell_type": "markdown",
   "metadata": {},
   "source": [
    "To complete this section, complete the Trigram model and dataset, and train the model for at least 1 epoch."
   ]
  },
  {
   "cell_type": "markdown",
   "metadata": {},
   "source": [
    "## Section 2: Sentiment Analysis\n",
    "\n",
    "In this section we'll compare how a neural model similar to the one above performs on sentiment analysis. Then, we'll replace the embeddings with pretrained ones to see if that increases our performance. To make our life easier, we'll use the glove vocabulary for both models.\n",
    "\n",
    "You can download the embeddings from here: https://nlp.stanford.edu/projects/glove/"
   ]
  },
  {
   "cell_type": "markdown",
   "metadata": {},
   "source": [
    "The glove vectors are distributed as a text file, with the word in the first column, and the embeddings in the remaining columns. We'll read in the embeddings here."
   ]
  },
  {
   "cell_type": "code",
   "execution_count": 16,
   "metadata": {
    "pycharm": {
     "name": "#%%\n"
    }
   },
   "outputs": [
    {
     "name": "stdout",
     "output_type": "stream",
     "text": [
      "the 0.418 0.24968 -0.41242 0.1217 0.34527 -0.044457 -0.49688 -0.17862 -0.00066023 -0.6566 0.27843 -0.14767 -0.55677 0.14658 -0.0095095 0.011658 0.10204 -0.12792 -0.8443 -0.12181 -0.016801 -0.33279 -0.1552 -0.23131 -0.19181 -1.8823 -0.76746 0.099051 -0.42125 -0.19526 4.0071 -0.18594 -0.52287 -0.31681 0.00059213 0.0074449 0.17778 -0.15897 0.012041 -0.054223 -0.29871 -0.15749 -0.34758 -0.045637 -0.44251 0.18785 0.0027849 -0.18411 -0.11514 -0.78581\n",
      "\n",
      "Loaded 400000 words from glove\n",
      "0\n",
      "[ 4.1800e-01  2.4968e-01 -4.1242e-01  1.2170e-01  3.4527e-01 -4.4457e-02\n",
      " -4.9688e-01 -1.7862e-01 -6.6023e-04 -6.5660e-01  2.7843e-01 -1.4767e-01\n",
      " -5.5677e-01  1.4658e-01 -9.5095e-03  1.1658e-02  1.0204e-01 -1.2792e-01\n",
      " -8.4430e-01 -1.2181e-01 -1.6801e-02 -3.3279e-01 -1.5520e-01 -2.3131e-01\n",
      " -1.9181e-01 -1.8823e+00 -7.6746e-01  9.9051e-02 -4.2125e-01 -1.9526e-01\n",
      "  4.0071e+00 -1.8594e-01 -5.2287e-01 -3.1681e-01  5.9213e-04  7.4449e-03\n",
      "  1.7778e-01 -1.5897e-01  1.2041e-02 -5.4223e-02 -2.9871e-01 -1.5749e-01\n",
      " -3.4758e-01 -4.5637e-02 -4.4251e-01  1.8785e-01  2.7849e-03 -1.8411e-01\n",
      " -1.1514e-01 -7.8581e-01]\n",
      "[0. 0. 0. 0. 0. 0. 0. 0. 0. 0. 0. 0. 0. 0. 0. 0. 0. 0. 0. 0. 0. 0. 0. 0.\n",
      " 0. 0. 0. 0. 0. 0. 0. 0. 0. 0. 0. 0. 0. 0. 0. 0. 0. 0. 0. 0. 0. 0. 0. 0.\n",
      " 0. 0.]\n"
     ]
    }
   ],
   "source": [
    "glove_file = 'glove.6B.50d.txt'\n",
    "\n",
    "embeddings_dict = {}\n",
    "\n",
    "with open(glove_file, 'r', encoding='utf8') as f:\n",
    "    for i, line in enumerate(f):\n",
    "        if i == 0:\n",
    "            print(line)\n",
    "        line = line.strip().split(' ')\n",
    "        word = line[0]\n",
    "        embed = numpy.asarray(line[1:], \"float\")\n",
    "\n",
    "        embeddings_dict[word] = embed\n",
    "\n",
    "print('Loaded {} words from glove'.format(len(embeddings_dict)))\n",
    "\n",
    "embedding_matrix = numpy.zeros((len(embeddings_dict)+1, 50)) #add 1 for padding\n",
    "\n",
    "word2id = {}\n",
    "for i, word in enumerate(embeddings_dict.keys()):\n",
    "\n",
    "    word2id[word] = i                                #Map each word to an index\n",
    "    embedding_matrix[i] = embeddings_dict[word]      #That index holds the Glove embedding in the embedding matrix\n",
    "\n",
    "# Our joint vocabulary for both models / sanity check to see if we've loaded it correctly:\n",
    "print(word2id['the'])\n",
    "print(embedding_matrix[word2id['the']])\n",
    "\n",
    "word2id['<pad>'] = embedding_matrix.shape[0] - 1\n",
    "print(embedding_matrix[word2id['<pad>']])\n"
   ]
  },
  {
   "cell_type": "markdown",
   "metadata": {},
   "source": [
    "We'll create another dataset for our (now labeled) movie reviews. Do not change the max_length values."
   ]
  },
  {
   "cell_type": "code",
   "execution_count": 17,
   "metadata": {
    "pycharm": {
     "name": "#%%\n"
    }
   },
   "outputs": [],
   "source": [
    "# Create a classification dataset for the movie reviews\n",
    "\n",
    "\n",
    "class MovieReviewDataset(torch.utils.data.Dataset):\n",
    "\n",
    "    def __init__(self, directory=None, split=None, word2id=None, finalized_data=None, data_limit=250, max_length=256):\n",
    "        \"\"\"\n",
    "        :param directory: The location of aclImdb\n",
    "        :param split: Train or test\n",
    "        :param word2id: The generated glove word2id dictionary\n",
    "        :param finalized_data: We'll use this to initialize a validation set without reloading the data.\n",
    "        :param data_limit: Limiter on the number of examples we load\n",
    "        :param max_length: Maximum length of the sequence\n",
    "        \"\"\"\n",
    "\n",
    "        self.data_limit = data_limit\n",
    "        self.max_length = max_length\n",
    "        self.word2id = word2id\n",
    "\n",
    "        if finalized_data:\n",
    "            self.data = finalized_data\n",
    "\n",
    "        else:\n",
    "\n",
    "            pos_dir = directory + '{}/pos/'.format(split)\n",
    "            neg_dir = directory + '{}/neg/'.format(split)\n",
    "\n",
    "            pos_examples = self.read_folder(pos_dir)\n",
    "            neg_examples = self.read_folder(neg_dir)\n",
    "\n",
    "            pos_examples_tokenized = [(ids, 1) for ids in self.tokenize(pos_examples)]\n",
    "            neg_examples_tokenized = [(ids, 0) for ids in self.tokenize(neg_examples)]\n",
    "\n",
    "            self.data = pos_examples_tokenized + neg_examples_tokenized\n",
    "\n",
    "            random.shuffle(self.data)\n",
    "\n",
    "    def read_folder(self, folder):\n",
    "        examples = []\n",
    "        for fname in os.listdir(folder)[:self.data_limit]:\n",
    "            with open(os.path.join(folder, fname), encoding='utf8') as f:\n",
    "                examples.append(f.readline().strip())\n",
    "        return examples\n",
    "\n",
    "    def tokenize(self, examples):\n",
    "\n",
    "        example_ids = []\n",
    "        misses = 0              # Count the number of tokens in our dataset which are not covered by glove -- i.e. percentage of unk tokens\n",
    "        total = 0\n",
    "        for example in examples:\n",
    "            tokens = word_tokenize(example)\n",
    "            ids = []\n",
    "            for tok in tokens:\n",
    "                if tok in word2id:\n",
    "                    ids.append(word2id[tok])\n",
    "                else:\n",
    "                    misses += 1\n",
    "                    ids.append(word2id['unk'])\n",
    "                total += 1\n",
    "\n",
    "            if len(ids) >= self.max_length:\n",
    "                ids = ids[:self.max_length]\n",
    "            else:\n",
    "                ids = ids + [word2id['<pad>']]*(self.max_length - len(ids))\n",
    "            example_ids.append(torch.tensor(ids))\n",
    "        print('Missed {} out of {} words -- {:.2f}%'.format(misses, total, misses/total))\n",
    "        return example_ids\n",
    "\n",
    "    def generate_validation_split(self, ratio=0.8):\n",
    "\n",
    "        split_idx = int(ratio * len(self.data))\n",
    "\n",
    "        # Take a chunk of the processed data, and return it in order to initialize a validation dataset\n",
    "        validation_split = self.data[split_idx:]\n",
    "\n",
    "        #We'll remove this data from the training data to prevent leakage\n",
    "        self.data = self.data[:split_idx]\n",
    "\n",
    "        return validation_split\n",
    "\n",
    "\n",
    "    def __getitem__(self, item):\n",
    "        return self.data[item]\n",
    "\n",
    "    def __len__(self):\n",
    "        return len(self.data)\n"
   ]
  },
  {
   "cell_type": "markdown",
   "metadata": {},
   "source": [
    "We'll define our two models: the randomly initialized RandomModel and the GloveModel where we use the pretrained vectors."
   ]
  },
  {
   "cell_type": "code",
   "execution_count": 61,
   "metadata": {
    "pycharm": {
     "name": "#%%\n"
    }
   },
   "outputs": [],
   "source": [
    "# Define a simple classification model\n",
    "class RandomModel(nn.Module): #our own embedding \n",
    "\n",
    "    def __init__(self, vocab_size, embedding_dim, hidden_dim, num_hidden_layers, max_length=256):\n",
    "        super().__init__()\n",
    "\n",
    "        self.embedding = nn.Embedding(vocab_size, embedding_dim)\n",
    "        self.hidden_layer_1 = nn.Linear(embedding_dim, hidden_dim)\n",
    "        self.hidden_layers = nn.ModuleList(\n",
    "            [nn.Linear(hidden_dim, hidden_dim) for _ in range(num_hidden_layers - 1)]\n",
    "        )\n",
    "\n",
    "\n",
    "        self.output_layer = nn.Linear(hidden_dim, 1)\n",
    "\n",
    "        self.relu = nn.ReLU()\n",
    "\n",
    "    def forward(self, input):\n",
    "\n",
    "        embedding = self.embedding(input).squeeze(1)\n",
    "        embedding = torch.sum(embedding, dim=1)\n",
    "\n",
    "        hidden = self.relu(self.hidden_layer_1(embedding))\n",
    "        for layer in self.hidden_layers:\n",
    "            hidden = self.relu(layer(hidden))\n",
    "\n",
    "        output = self.output_layer(hidden)\n",
    "        return output\n",
    "\n",
    "# Define a Glove classification model\n",
    "class GloveModel(nn.Module): #using pretrained embeddings \n",
    "\n",
    "    def __init__(self, pretrained_embedding, hidden_dim, num_hidden_layers, max_length=256):\n",
    "        super().__init__()\n",
    "\n",
    "        self.embedding = nn.Embedding.from_pretrained(torch.FloatTensor(pretrained_embedding))\n",
    "        self.hidden_layer_1 = nn.Linear(pretrained_embedding.shape[1], hidden_dim)\n",
    "        self.hidden_layers = nn.ModuleList(\n",
    "            [nn.Linear(hidden_dim, hidden_dim) for _ in range(num_hidden_layers - 1)]\n",
    "        )\n",
    "        self.output_layer = nn.Linear(hidden_dim, 1)\n",
    "\n",
    "        self.relu = nn.ReLU()\n",
    "\n",
    "    def forward(self, input):\n",
    "\n",
    "        embedding = self.embedding(input).squeeze(1)\n",
    "        embedding = torch.sum(embedding, dim=1)\n",
    "\n",
    "        hidden = self.relu(self.hidden_layer_1(embedding))\n",
    "        for layer in self.hidden_layers:\n",
    "            hidden = self.relu(layer(hidden))\n",
    "\n",
    "        output = self.output_layer(hidden)\n",
    "\n",
    "        return output"
   ]
  },
  {
   "cell_type": "markdown",
   "metadata": {},
   "source": [
    "Here we'll define a new prediction method. It will take the output of the model and classify it as 0 if it's below the threshold (0.5) or 1 otherwise.\n",
    "\n",
    "We'll use this method to log our validation accuracy as we train."
   ]
  },
  {
   "cell_type": "code",
   "execution_count": 62,
   "metadata": {
    "pycharm": {
     "name": "#%%\n"
    }
   },
   "outputs": [],
   "source": [
    "def predict(model, valid_dataloader):\n",
    "\n",
    "    sigmoid = nn.Sigmoid()\n",
    "\n",
    "    total_correct = 0\n",
    "    total_examples = len(valid_dataloader)\n",
    "\n",
    "    for x,y in valid_dataloader:\n",
    "\n",
    "        x = x.unsqueeze(1)\n",
    "        output = sigmoid(model(x))\n",
    "\n",
    "        if (output < 0.5 and y == 0) or (output >= 0.5 and y == 1):\n",
    "            total_correct += 1\n",
    "\n",
    "    accuracy = total_correct / total_examples\n",
    "    print('accuracy: {}'.format(accuracy))\n",
    "    return accuracy"
   ]
  },
  {
   "cell_type": "markdown",
   "metadata": {},
   "source": [
    "Finally, we'll define the training loop for these models."
   ]
  },
  {
   "cell_type": "code",
   "execution_count": 66,
   "metadata": {
    "pycharm": {
     "is_executing": true,
     "name": "#%%\n"
    }
   },
   "outputs": [],
   "source": [
    "def train_classification(model, train_dataset, valid_dataset, epochs=30, batch_size=50, print_frequency=100):\n",
    "\n",
    "    criteria = nn.BCEWithLogitsLoss()\n",
    "    optimizer = torch.optim.AdamW(model.parameters(), lr=0.005) #learning rate      \n",
    "    \n",
    "\n",
    "    epochs = epochs\n",
    "    batch_size = batch_size\n",
    "    print_frequency = print_frequency\n",
    "    avg_loss_list=[]\n",
    "    accuracy_list=[]\n",
    "\n",
    "    train_dataloader = torch.utils.data.DataLoader(train_dataset, batch_size=batch_size, shuffle=True)\n",
    "    valid_dataloader = torch.utils.data.DataLoader(valid_dataset, batch_size=1, shuffle=False)\n",
    "\n",
    "    for i in range(epochs):\n",
    "        print('### Epoch: ' + str(i+1) + ' ###')\n",
    "\n",
    "        model.train()\n",
    "        avg_loss = 0\n",
    "\n",
    "        for step, data in enumerate(train_dataloader):\n",
    "\n",
    "            x, y = data\n",
    "            x = x.unsqueeze(1)\n",
    "\n",
    "            optimizer.zero_grad()\n",
    "\n",
    "            model_output = model(x)\n",
    "\n",
    "            loss = criteria(model_output.squeeze(1), y.float())\n",
    "\n",
    "            loss.backward()\n",
    "            optimizer.step()\n",
    "\n",
    "            avg_loss += loss.item()\n",
    "            if step % print_frequency == 1:\n",
    "                print('epoch: {} batch: {} loss: {}'.format(\n",
    "                    i,\n",
    "                    step,\n",
    "                    avg_loss / print_frequency\n",
    "                ))\n",
    "                avg_loss_list.append(avg_loss) #keep track of average loss\n",
    "                avg_loss = 0\n",
    "\n",
    "        model.eval()\n",
    "        with torch.no_grad():\n",
    "            accuracy_list.append(predict(model, valid_dataloader))\n",
    "            \n",
    "    return avg_loss_list, accuracy_list"
   ]
  },
  {
   "cell_type": "markdown",
   "metadata": {},
   "source": [
    "Initialize the training and validation datasets/dataloaders"
   ]
  },
  {
   "cell_type": "code",
   "execution_count": 67,
   "metadata": {
    "pycharm": {
     "name": "#%%\n"
    }
   },
   "outputs": [
    {
     "name": "stdout",
     "output_type": "stream",
     "text": [
      "Missed 8659 out of 71710 words -- 0.12%\n",
      "Missed 8502 out of 70085 words -- 0.12%\n",
      "Loaded 400 train examples\n",
      "Loaded 100 validation examples\n"
     ]
    }
   ],
   "source": [
    "train_dataset = MovieReviewDataset('aclImdb/', 'train', word2id)\n",
    "validation_examples = train_dataset.generate_validation_split()\n",
    "print('Loaded {} train examples'.format(train_dataset.__len__()))\n",
    "\n",
    "valid_dataset = MovieReviewDataset(finalized_data=validation_examples, word2id=word2id)\n",
    "print('Loaded {} validation examples'.format(valid_dataset.__len__()))"
   ]
  },
  {
   "cell_type": "markdown",
   "metadata": {},
   "source": [
    "In the following two code blocks, initialize a new RandomModel in one, and a new GloveModel in the other -- use train_classification() to train them.\n",
    "   - For each model, find a set of model parameters (i.e. play around with the number of hidden layers and the hidden layer size) and training parameters (epochs, batch size) which give you a good (>70) validation accuracy.\n",
    "\n",
    "Some tips:\n",
    "   1. Given your resources, first try and prioritize how many data examples you load. This is controlled by the data_limit value of the dataset.\n",
    "   2. For previous models, we've only trained for 1-3 epochs due to the large number of parameters when language modeling. You may need to train for a considerably longer time (>30-50 epochs) to get results\n",
    "   3. Performance is both a function of training time and the model itself. Keep an eye on the validation accuracy in case the model is overfitting (can be prevented by using more examples)\n",
    "   4. Right now, every hidden layer is the same dimension. Consider widening or narrowing some layers.\n",
    "\n",
    "Additionally, modify the training loop to collect validation set accuracies after each epoch (the predict method is already returning these values). For each model, plot the training loss and validation accuracy over time."
   ]
  },
  {
   "cell_type": "code",
   "execution_count": 70,
   "metadata": {
    "pycharm": {
     "name": "#%%\n"
    }
   },
   "outputs": [
    {
     "name": "stdout",
     "output_type": "stream",
     "text": [
      "### Epoch: 1 ###\n",
      "epoch: 0 batch: 1 loss: 0.013898547291755676\n",
      "accuracy: 0.42\n",
      "### Epoch: 2 ###\n",
      "epoch: 1 batch: 1 loss: 0.013676021099090576\n",
      "accuracy: 0.42\n",
      "### Epoch: 3 ###\n",
      "epoch: 2 batch: 1 loss: 0.01382591724395752\n",
      "accuracy: 0.42\n",
      "### Epoch: 4 ###\n",
      "epoch: 3 batch: 1 loss: 0.01384276270866394\n",
      "accuracy: 0.46\n",
      "### Epoch: 5 ###\n",
      "epoch: 4 batch: 1 loss: 0.013633596301078797\n",
      "accuracy: 0.44\n",
      "### Epoch: 6 ###\n",
      "epoch: 5 batch: 1 loss: 0.012730287909507752\n",
      "accuracy: 0.46\n",
      "### Epoch: 7 ###\n",
      "epoch: 6 batch: 1 loss: 0.01215347409248352\n",
      "accuracy: 0.5\n",
      "### Epoch: 8 ###\n",
      "epoch: 7 batch: 1 loss: 0.010196513533592223\n",
      "accuracy: 0.54\n",
      "### Epoch: 9 ###\n",
      "epoch: 8 batch: 1 loss: 0.008308984041213989\n",
      "accuracy: 0.72\n",
      "### Epoch: 10 ###\n",
      "epoch: 9 batch: 1 loss: 0.008065473437309265\n",
      "accuracy: 0.66\n",
      "### Epoch: 11 ###\n",
      "epoch: 10 batch: 1 loss: 0.005241067409515381\n",
      "accuracy: 0.65\n",
      "### Epoch: 12 ###\n",
      "epoch: 11 batch: 1 loss: 0.005824143886566162\n",
      "accuracy: 0.72\n",
      "### Epoch: 13 ###\n",
      "epoch: 12 batch: 1 loss: 0.0035893648862838747\n",
      "accuracy: 0.7\n",
      "### Epoch: 14 ###\n",
      "epoch: 13 batch: 1 loss: 0.0026828790456056594\n",
      "accuracy: 0.71\n",
      "### Epoch: 15 ###\n",
      "epoch: 14 batch: 1 loss: 0.0008577386289834976\n",
      "accuracy: 0.69\n",
      "### Epoch: 16 ###\n",
      "epoch: 15 batch: 1 loss: 0.0006749374978244305\n",
      "accuracy: 0.7\n",
      "### Epoch: 17 ###\n",
      "epoch: 16 batch: 1 loss: 0.00038066835142672065\n",
      "accuracy: 0.77\n",
      "### Epoch: 18 ###\n",
      "epoch: 17 batch: 1 loss: 5.2604278173475905e-05\n",
      "accuracy: 0.61\n",
      "### Epoch: 19 ###\n",
      "epoch: 18 batch: 1 loss: 0.0063669833540916446\n",
      "accuracy: 0.58\n",
      "### Epoch: 20 ###\n",
      "epoch: 19 batch: 1 loss: 0.011741164922714233\n",
      "accuracy: 0.58\n",
      "### Epoch: 21 ###\n",
      "epoch: 20 batch: 1 loss: 0.007716469466686249\n",
      "accuracy: 0.78\n",
      "### Epoch: 22 ###\n",
      "epoch: 21 batch: 1 loss: 0.007388622462749481\n",
      "accuracy: 0.73\n",
      "### Epoch: 23 ###\n",
      "epoch: 22 batch: 1 loss: 1.9532005871383263e-05\n",
      "accuracy: 0.6\n",
      "### Epoch: 24 ###\n",
      "epoch: 23 batch: 1 loss: 0.006438227891921997\n",
      "accuracy: 0.54\n",
      "### Epoch: 25 ###\n",
      "epoch: 24 batch: 1 loss: 0.009279656708240509\n",
      "accuracy: 0.69\n",
      "### Epoch: 26 ###\n",
      "epoch: 25 batch: 1 loss: 0.008423435986042022\n",
      "accuracy: 0.74\n",
      "### Epoch: 27 ###\n",
      "epoch: 26 batch: 1 loss: 0.0010750864818692208\n",
      "accuracy: 0.76\n",
      "### Epoch: 28 ###\n",
      "epoch: 27 batch: 1 loss: 0.005093022212386131\n",
      "accuracy: 0.75\n",
      "### Epoch: 29 ###\n",
      "epoch: 28 batch: 1 loss: 0.004038108736276627\n",
      "accuracy: 0.77\n",
      "### Epoch: 30 ###\n",
      "epoch: 29 batch: 1 loss: 0.0004903053119778633\n",
      "accuracy: 0.77\n"
     ]
    }
   ],
   "source": [
    "'''\n",
    "\n",
    "Initialize the RandomModel here\n",
    "\n",
    "\n",
    "Your code here\n",
    "\n",
    "10 pts.\n",
    "'''\n",
    "\n",
    "random_model = RandomModel(vocab_size= len(embeddings_dict)+1, embedding_dim= 55, hidden_dim=55, num_hidden_layers=15)\n",
    "random_avg_loss, random_accuracy=train_classification(random_model, train_dataset, valid_dataset)"
   ]
  },
  {
   "cell_type": "code",
   "execution_count": 69,
   "metadata": {
    "pycharm": {
     "name": "#%%\n"
    }
   },
   "outputs": [
    {
     "name": "stdout",
     "output_type": "stream",
     "text": [
      "### Epoch: 1 ###\n",
      "epoch: 0 batch: 1 loss: 0.013928121328353882\n",
      "accuracy: 0.42\n",
      "### Epoch: 2 ###\n",
      "epoch: 1 batch: 1 loss: 0.013844459652900695\n",
      "accuracy: 0.58\n",
      "### Epoch: 3 ###\n",
      "epoch: 2 batch: 1 loss: 0.013394909501075745\n",
      "accuracy: 0.64\n",
      "### Epoch: 4 ###\n",
      "epoch: 3 batch: 1 loss: 0.013053593635559082\n",
      "accuracy: 0.7\n",
      "### Epoch: 5 ###\n",
      "epoch: 4 batch: 1 loss: 0.013712155222892762\n",
      "accuracy: 0.64\n",
      "### Epoch: 6 ###\n",
      "epoch: 5 batch: 1 loss: 0.013463646173477173\n",
      "accuracy: 0.64\n",
      "### Epoch: 7 ###\n",
      "epoch: 6 batch: 1 loss: 0.01285873532295227\n",
      "accuracy: 0.73\n",
      "### Epoch: 8 ###\n",
      "epoch: 7 batch: 1 loss: 0.012253408432006835\n",
      "accuracy: 0.7\n",
      "### Epoch: 9 ###\n",
      "epoch: 8 batch: 1 loss: 0.012081725001335144\n",
      "accuracy: 0.74\n",
      "### Epoch: 10 ###\n",
      "epoch: 9 batch: 1 loss: 0.011891239285469056\n",
      "accuracy: 0.68\n",
      "### Epoch: 11 ###\n",
      "epoch: 10 batch: 1 loss: 0.01117405116558075\n",
      "accuracy: 0.73\n",
      "### Epoch: 12 ###\n",
      "epoch: 11 batch: 1 loss: 0.011225211024284363\n",
      "accuracy: 0.75\n",
      "### Epoch: 13 ###\n",
      "epoch: 12 batch: 1 loss: 0.01244016945362091\n",
      "accuracy: 0.78\n",
      "### Epoch: 14 ###\n",
      "epoch: 13 batch: 1 loss: 0.012364163398742675\n",
      "accuracy: 0.75\n",
      "### Epoch: 15 ###\n",
      "epoch: 14 batch: 1 loss: 0.011449778079986572\n",
      "accuracy: 0.78\n",
      "### Epoch: 16 ###\n",
      "epoch: 15 batch: 1 loss: 0.009147053062915802\n",
      "accuracy: 0.77\n",
      "### Epoch: 17 ###\n",
      "epoch: 16 batch: 1 loss: 0.008991256058216095\n",
      "accuracy: 0.78\n",
      "### Epoch: 18 ###\n",
      "epoch: 17 batch: 1 loss: 0.008788083791732787\n",
      "accuracy: 0.77\n",
      "### Epoch: 19 ###\n",
      "epoch: 18 batch: 1 loss: 0.010791678428649903\n",
      "accuracy: 0.78\n",
      "### Epoch: 20 ###\n",
      "epoch: 19 batch: 1 loss: 0.008823108077049256\n",
      "accuracy: 0.72\n",
      "### Epoch: 21 ###\n",
      "epoch: 20 batch: 1 loss: 0.00941000610589981\n",
      "accuracy: 0.76\n",
      "### Epoch: 22 ###\n",
      "epoch: 21 batch: 1 loss: 0.008661247491836548\n",
      "accuracy: 0.81\n",
      "### Epoch: 23 ###\n",
      "epoch: 22 batch: 1 loss: 0.009185087382793427\n",
      "accuracy: 0.72\n",
      "### Epoch: 24 ###\n",
      "epoch: 23 batch: 1 loss: 0.008036149144172668\n",
      "accuracy: 0.73\n",
      "### Epoch: 25 ###\n",
      "epoch: 24 batch: 1 loss: 0.007799579203128815\n",
      "accuracy: 0.68\n",
      "### Epoch: 26 ###\n",
      "epoch: 25 batch: 1 loss: 0.010088240504264831\n",
      "accuracy: 0.7\n",
      "### Epoch: 27 ###\n",
      "epoch: 26 batch: 1 loss: 0.010705392956733704\n",
      "accuracy: 0.75\n",
      "### Epoch: 28 ###\n",
      "epoch: 27 batch: 1 loss: 0.009238156080245972\n",
      "accuracy: 0.76\n",
      "### Epoch: 29 ###\n",
      "epoch: 28 batch: 1 loss: 0.008574074804782868\n",
      "accuracy: 0.64\n",
      "### Epoch: 30 ###\n",
      "epoch: 29 batch: 1 loss: 0.00922099769115448\n",
      "accuracy: 0.77\n"
     ]
    }
   ],
   "source": [
    "'''\n",
    "\n",
    "Initialize the GloveModel here.\n",
    "\n",
    "\n",
    "Your code here\n",
    "\n",
    "10 pts.\n",
    "'''\n",
    "\n",
    "glove_model = GloveModel(pretrained_embedding= embedding_matrix, hidden_dim= 88,num_hidden_layers= 5)\n",
    "glove_avg_loss, glove_accuracy=train_classification(glove_model, train_dataset, valid_dataset)\n"
   ]
  },
  {
   "cell_type": "markdown",
   "metadata": {},
   "source": [
    "Once you've finished tuning parameters, test the two models on the test set."
   ]
  },
  {
   "cell_type": "code",
   "execution_count": null,
   "metadata": {
    "pycharm": {
     "name": "#%%\n"
    }
   },
   "outputs": [],
   "source": [
    "test_dataset = MovieReviewDataset('aclImdb/', 'test', word2id)\n",
    "test_dataloader = torch.utils.data.DataLoader(test_dataset, batch_size=1, shuffle=False)\n",
    "\n",
    "print('Random model accuracy: ')\n",
    "predict(random_model, test_dataloader)\n",
    "\n",
    "print('Glove model accuracy: ')\n",
    "predict(glove_model, test_dataloader)"
   ]
  },
  {
   "cell_type": "code",
   "execution_count": 54,
   "metadata": {},
   "outputs": [
    {
     "data": {
      "image/png": "[encoded data removed]",
      "text/plain": [
       "<Figure size 432x288 with 2 Axes>"
      ]
     },
     "metadata": {
      "needs_background": "light"
     },
     "output_type": "display_data"
    }
   ],
   "source": [
    "fig, (ax1, ax2) = plt.subplots(1, 2)\n",
    "ax1.plot( random_avg_loss, 'r') \n",
    "ax1.set_xlabel('Epochs')\n",
    "ax1.set_ylabel('Loss')\n",
    "ax1.set_title(\"Average Loss for Random Model\")\n",
    "\n",
    "\n",
    "ax2.plot( glove_avg_loss, 'b') \n",
    "ax2.set_xlabel('Epochs')\n",
    "ax2.set_ylabel('Loss')\n",
    "ax2.set_title(\"Average Loss for Glove Model\")\n",
    "plt.show()\n",
    "\n"
   ]
  },
  {
   "cell_type": "code",
   "execution_count": 55,
   "metadata": {},
   "outputs": [
    {
     "data": {
      "image/png": "[encoded data removed]",
      "text/plain": [
       "<Figure size 432x288 with 2 Axes>"
      ]
     },
     "metadata": {
      "needs_background": "light"
     },
     "output_type": "display_data"
    }
   ],
   "source": [
    "fig, (ax1, ax2) = plt.subplots(1, 2)\n",
    "ax1.plot( random_accuracy, 'r') \n",
    "ax1.set_xlabel('Epochs')\n",
    "ax1.set_ylabel('Accuracy')\n",
    "ax1.set_title(\"Accuracy of Random Model\")\n",
    "\n",
    "\n",
    "ax2.plot( glove_accuracy, 'b') \n",
    "ax2.set_xlabel('Epochs')\n",
    "ax2.set_ylabel('Accuracy')\n",
    "ax2.set_title(\"Accuracy of Glove Model\")\n",
    "plt.show()\n",
    "\n"
   ]
  },
  {
   "cell_type": "markdown",
   "metadata": {},
   "source": [
    "## Free Response Questions (20 pts.):\n",
    "1. Compare the performance of the Glove model vs the Random model. Refer to the validation accuracy curves and the test set results in your answer.\n",
    "2. Compare the training loop between the supervised and unsupervised models. What's different (outside of code features like predicting validation accuracy after each epoch)?"
   ]
  },
  {
   "cell_type": "markdown",
   "metadata": {
    "pycharm": {
     "name": "#%% md\n"
    }
   },
   "source": [
    "1. \n",
    "\n",
    "    The Random Model has a very low accuracy for the first ~10 epochs, then dramaticly increases before leveling out. In contrast, the glove model\n",
    "\n",
    "    From the loss graphs we can see that, in general, the Glove Model has a more stable performance and there are less dramatic fluctuations in the loss. Also, the glove model trains significantly faster than the Random model. This is likely due to the smaller number of hidden layers. \n",
    "\n",
    "------- "
   ]
  },
  {
   "cell_type": "markdown",
   "metadata": {},
   "source": [
    "2. \n",
    "    The Bigram and trigram models are language models that predicts the next word in a sequence based on the previous one word for bigram and two words for trigram. The Random and GloVe models are classification model that predicts whether a given sequence of words belongs to the positive or negative class.\n",
    "\n",
    "    There are many differences between the training loops of the unsupervised (Bigram and Trigram) and supervised (Random and Glove Models): \n",
    "- The loss functions: The bigram and trigram models uses cross-entropy loss, while the Random and GloVe models use BCEWithLogitsLoss.\n",
    "\n",
    "- Softmax: Bigram and Trigram use softmax and Random and GloVe models do not\n",
    "\n",
    "- Prediction/Validation Check: During training the Glove and Random evaluate the model output each epoch using a predict function to check validation accuracy by comparing it to a labeled validation data set. Bigram and Trigram do not have a prediction validation check. Since there is no validation comparison we cannot tell if these models are overfitting. \n",
    "\n",
    "- Data input: The bigram and trigram model requires input sequence of two and three words, whereas the Random and GloVe model requires a dataset of word embeddings.\n",
    "\n",
    "- The bigram and trigram model generate bigrams and trigrams from the raw text and do not use word embeddings, whereas the Random model randomly generates word embeddings from the raw text and the Glove model uses pretrained word embeddings.\n",
    "\n",
    "- Model output: The bigram and trigram models output a probability distribution over the next word in the sequence, while the GloVe and Random models output a scalar representing the probability that the input belongs to the positive class.\n"
   ]
  }
 ],
 "metadata": {
  "kernelspec": {
   "display_name": "Python 3 (ipykernel)",
   "language": "python",
   "name": "python3"
  },
  "language_info": {
   "codemirror_mode": {
    "name": "ipython",
    "version": 3
   },
   "file_extension": ".py",
   "mimetype": "text/x-python",
   "name": "python",
   "nbconvert_exporter": "python",
   "pygments_lexer": "ipython3",
   "version": "3.9.7"
  }
 },
 "nbformat": 4,
 "nbformat_minor": 1
}
