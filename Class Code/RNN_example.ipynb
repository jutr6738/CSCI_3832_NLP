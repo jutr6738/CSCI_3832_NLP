{
 "cells": [
  {
   "cell_type": "code",
   "execution_count": 1,
   "metadata": {},
   "outputs": [],
   "source": [
    "'''\n",
    "First, we will import everything we need. We will also define a couple\n",
    "of useful functions.\n",
    "'''\n",
    "import torch\n",
    "from torch import nn\n",
    "\n",
    "# This is a function that prints the number of trainable parameters \n",
    "# of a model.\n",
    "def count_parameters(model):\n",
    "    return sum(p.numel() for p in model.parameters() if p.requires_grad)\n",
    "\n",
    "# This functions prints all parameters (and their gradients) of a model.\n",
    "def print_parameters(model):\n",
    "    for name, param in model.named_parameters():\n",
    "        print(name)\n",
    "        print(param.data)\n",
    "        print(param.grad)"
   ]
  },
  {
   "cell_type": "code",
   "execution_count": 5,
   "metadata": {},
   "outputs": [],
   "source": [
    "'''\n",
    "Now, we initialize our RNN.\n",
    "'''\n",
    "herRNN = nn.RNN(3, 1, nonlinearity='relu', bias=False)"
   ]
  },
  {
   "cell_type": "code",
   "execution_count": 6,
   "metadata": {},
   "outputs": [
    {
     "data": {
      "text/plain": [
       "4"
      ]
     },
     "execution_count": 6,
     "metadata": {},
     "output_type": "execute_result"
    }
   ],
   "source": [
    "count_parameters(herRNN)"
   ]
  },
  {
   "cell_type": "code",
   "execution_count": 7,
   "metadata": {},
   "outputs": [
    {
     "name": "stdout",
     "output_type": "stream",
     "text": [
      "weight_ih_l0\n",
      "Parameter containing:\n",
      "tensor([[ 0.7954,  0.6342, -0.6827]], requires_grad=True)\n",
      "Parameter containing:\n",
      "tensor([[1., 5., 3.]], requires_grad=True)\n",
      "weight_hh_l0\n",
      "Parameter containing:\n",
      "tensor([[-0.5628]], requires_grad=True)\n",
      "Parameter containing:\n",
      "tensor([[7.]], requires_grad=True)\n"
     ]
    }
   ],
   "source": [
    "# We set herRNN's weights and to those from our example.\n",
    "for name, param in herRNN.named_parameters():\n",
    "    print(name)\n",
    "    print(param)\n",
    "    if name == 'weight_ih_l0':\n",
    "        param.data = torch.tensor([[1., 5., 3.]])\n",
    "    else:\n",
    "        param.data = torch.tensor([[7.]])\n",
    "    print(param)"
   ]
  },
  {
   "cell_type": "code",
   "execution_count": 8,
   "metadata": {},
   "outputs": [
    {
     "name": "stdout",
     "output_type": "stream",
     "text": [
      "tensor([[23.]], grad_fn=<SqueezeBackward1>)\n"
     ]
    }
   ],
   "source": [
    "# Define the input from our example and compute the RNN's hidden state for it.\n",
    "x = torch.tensor([[3., 2., 1.]])\n",
    "h_0 = torch.tensor([[1.]])\n",
    "\n",
    "output, h_T = herRNN(x, h_0)  # output contains all hidden states; hn is the last one\n",
    "print(output)"
   ]
  },
  {
   "cell_type": "code",
   "execution_count": null,
   "metadata": {},
   "outputs": [],
   "source": []
  }
 ],
 "metadata": {
  "kernelspec": {
   "display_name": "Python 3 (ipykernel)",
   "language": "python",
   "name": "python3"
  },
  "language_info": {
   "codemirror_mode": {
    "name": "ipython",
    "version": 3
   },
   "file_extension": ".py",
   "mimetype": "text/x-python",
   "name": "python",
   "nbconvert_exporter": "python",
   "pygments_lexer": "ipython3",
   "version": "3.9.7"
  }
 },
 "nbformat": 4,
 "nbformat_minor": 2
}
